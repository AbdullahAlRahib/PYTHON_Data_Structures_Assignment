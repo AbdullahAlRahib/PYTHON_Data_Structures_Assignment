{
  "cells": [
    {
      "cell_type": "markdown",
      "metadata": {
        "id": "U4E9DciaZJcY"
      },
      "source": [
        "# **Q1**\n",
        " How do you comment code in Python? What are the different types of comments?"
      ]
    },
    {
      "cell_type": "markdown",
      "source": [
        "In Python, we can add explanatory annotations to our code or disable specific lines of code by commenting them. We can utilize two types of comments:\n",
        "\n",
        "**Single-line comments:** These comments are marked by the **#** symbol and span only one line."
      ],
      "metadata": {
        "id": "ER3DZc272PMq"
      }
    },
    {
      "cell_type": "code",
      "execution_count": 1,
      "metadata": {
        "id": "iOlU2medZJce",
        "colab": {
          "base_uri": "https://localhost:8080/"
        },
        "outputId": "4f9039a6-2afa-4d34-afd5-cb9c1d742cf7"
      },
      "outputs": [
        {
          "output_type": "stream",
          "name": "stdout",
          "text": [
            "Hello, World!\n"
          ]
        }
      ],
      "source": [
        "# This is a single-line comment in Python\n",
        "print(\"Hello, World!\")"
      ]
    },
    {
      "cell_type": "markdown",
      "source": [
        "**Multi-line comments:** These remarks can span numerous lines and are denoted by triple quotation marks **(\"\"\")**."
      ],
      "metadata": {
        "id": "NlQ5e0FA240M"
      }
    },
    {
      "cell_type": "code",
      "source": [
        "\"\"\"\n",
        "This is a multi-line comment in Python.\n",
        "This is a multi-line comment in Python.\n",
        "This is a multi-line comment in Python.\n",
        "\"\"\"\n",
        "\n",
        "print(\"Hello, World!\")"
      ],
      "metadata": {
        "colab": {
          "base_uri": "https://localhost:8080/"
        },
        "id": "syz_IwY624RC",
        "outputId": "892e8f56-8c9d-49e6-9a57-64792ffad818"
      },
      "execution_count": 2,
      "outputs": [
        {
          "output_type": "stream",
          "name": "stdout",
          "text": [
            "Hello, World!\n"
          ]
        }
      ]
    },
    {
      "cell_type": "markdown",
      "metadata": {
        "id": "Up34mFWtZJch"
      },
      "source": [
        "# **Q2.**\n",
        " What are variables in Python? How do you declare and assign values to variables?\n",
        "\n",
        "**Answer:**\n",
        "\n",
        "Data is stored and manipulated via variables. A variable is essentially a named location in memory where a value can be stored.\n",
        "\n",
        "we can use the following syntax to declare and assign values to variables:\n",
        "\n",
        "**variable_name = value**"
      ]
    },
    {
      "cell_type": "code",
      "execution_count": 2,
      "metadata": {
        "id": "nmyXzT2wZJci"
      },
      "outputs": [],
      "source": [
        "name = \"John\"  # Assigning a string value to the variable 'name'\n",
        "age = 25      # Assigning an integer value to the variable 'age'\n",
        "pi = 3.14     # Assigning a floating-point value to the variable 'pi'\n",
        "is_valid = True  # Assigning a boolean value to the variable 'is_valid'"
      ]
    },
    {
      "cell_type": "markdown",
      "metadata": {
        "id": "uoIEsSA5ZJcj"
      },
      "source": [
        "# **Q3.**\n",
        "How do you convert one data type to another in Python?"
      ]
    },
    {
      "cell_type": "code",
      "execution_count": 8,
      "metadata": {
        "id": "wK7wS-5dZJck"
      },
      "outputs": [],
      "source": [
        "#int(): This function converts a value to an integer data type. \n",
        "num = int(\"10\")  # Converts the string \"10\" to an integer\n",
        "\n",
        "#float(): This function converts a value to a floating-point data type.\n",
        "num = float(\"3.14\")  # Converts the string \"3.14\" to a float\n",
        "\n",
        "#str(): This function converts a value to a string data type.\n",
        "num1 = 42\n",
        "text = str(num1)  # Converts the integer 42 to a string \"42\"\n",
        "\n",
        "#bool(): This function converts a value to a boolean data type. It returns False for numeric values of zero or empty containers, and True otherwise.\n",
        "result = bool(10)  # Converts the integer 10 to True"
      ]
    },
    {
      "cell_type": "markdown",
      "metadata": {
        "id": "IHdSqkO_ZJcl"
      },
      "source": [
        "# **Q4.**\n",
        "How do you write and execute a Python script from the command line?\n",
        "\n",
        "1. Open a text editor of our choice and write your Python code in a new file. \n",
        "Save the file with a .py extension. \n",
        "\n",
        "  my_script.py.\n",
        "\n",
        "2. Open a command prompt or terminal window.\n",
        "\n",
        "3. Navigate to the directory where our Python script is saved using the cd command.\n",
        "\n",
        "  **cd** C:\\Users\\YourUsername\\Documents\n",
        "\n",
        "4. Once we are in the correct directory, we can run the Python script by typing python followed by the name of your script file. For example:\n",
        "\n",
        "  **python my_script.py**\n",
        "\n",
        "5. If we have multiple versions of Python installed on our system, we may need to specify the version explicitly. In that case, we can use python3 instead of python, like this:\n",
        "\n",
        "  **python3 my_script.py**\n",
        "\n",
        "  Press the Enter key to execute the command. The Python interpreter will read your script and execute the code. Any output or results produced by our script will be displayed in the command prompt or terminal."
      ]
    },
    {
      "cell_type": "markdown",
      "metadata": {
        "id": "X7yFJc_rZJcm"
      },
      "source": [
        "# **Q5.**\n",
        "Given a list my_list = [1, 2, 3, 4, 5], write the code to slice the list and obtain the sub-list [2, 3]."
      ]
    },
    {
      "cell_type": "code",
      "execution_count": 9,
      "metadata": {
        "colab": {
          "base_uri": "https://localhost:8080/"
        },
        "id": "nE0OdEVWZJcn",
        "outputId": "e7c1f8e0-9bbd-4f9b-9ceb-259bf39c7a40"
      },
      "outputs": [
        {
          "output_type": "stream",
          "name": "stdout",
          "text": [
            "[2, 3]\n"
          ]
        }
      ],
      "source": [
        "my_list = [1, 2, 3, 4, 5]\n",
        "sub_list = my_list[1:3]\n",
        "print(sub_list)"
      ]
    },
    {
      "cell_type": "markdown",
      "metadata": {
        "id": "s9sJr-M2ZJcn"
      },
      "source": [
        "# **Q6.**\n",
        " What is a complex number in mathematics, and how is it represented in Python?\n",
        "\n",
        "**Answer:**\n",
        "\n",
        "  a complex number is a number that comprises a real part and an imaginary part. It is represented in the form a + bi, where a is the real part, b is the imaginary part, and i is the imaginary unit defined as the square root of -1.\n",
        "  \n",
        "  complex numbers are supported as a built-in data type. They are represented by using the syntax a + bj or (a, b) where a represents the real part and b represents the imaginary part. The j or J is used to denote the imaginary unit.\n"
      ]
    },
    {
      "cell_type": "code",
      "execution_count": 10,
      "metadata": {
        "id": "aKASvr-qZJcn"
      },
      "outputs": [],
      "source": [
        "z1 = 2 + 3j\n",
        "z2 = complex(4, -5)\n",
        "z3 = 1.5 - 2j\n",
        "# Z1, Z2, Z3 are represent complex number"
      ]
    },
    {
      "cell_type": "markdown",
      "metadata": {
        "id": "Kf2bz7j0ZJco"
      },
      "source": [
        "# **Q7.**\n",
        "What is the correct way to declare a variable named age and assign the value 25 to it?"
      ]
    },
    {
      "cell_type": "code",
      "execution_count": 7,
      "metadata": {
        "colab": {
          "base_uri": "https://localhost:8080/"
        },
        "id": "xYAHL8PlZJco",
        "outputId": "806b40a5-7511-4047-d962-5a800020fb4b"
      },
      "outputs": [
        {
          "output_type": "stream",
          "name": "stdout",
          "text": [
            "[10, 2, 3]\n"
          ]
        }
      ],
      "source": [
        "age = 25"
      ]
    },
    {
      "cell_type": "markdown",
      "source": [
        " age is the variable name, and 25 is the assigned value. Python uses a single equals sign (=) for assignment, where the value on the right side of the equals sign is assigned to the variable on the left side.\n",
        "\n",
        " "
      ],
      "metadata": {
        "id": "GxWVwBFW1BlB"
      }
    },
    {
      "cell_type": "markdown",
      "source": [
        " # **Q8.**\n",
        "\n",
        " Declare a variable named price and assign the value 9.99 to it. What data type does this variable\n",
        "belong to?"
      ],
      "metadata": {
        "id": "RdtMMYav2RLi"
      }
    },
    {
      "cell_type": "code",
      "source": [
        "price = 9.99\n",
        "type(price) #The data type of the variable price would be a floating-point number"
      ],
      "metadata": {
        "colab": {
          "base_uri": "https://localhost:8080/"
        },
        "id": "0RsKZdCp1A-n",
        "outputId": "51aeb489-ae2a-4521-884a-2fa3f1ce4898"
      },
      "execution_count": 11,
      "outputs": [
        {
          "output_type": "execute_result",
          "data": {
            "text/plain": [
              "float"
            ]
          },
          "metadata": {},
          "execution_count": 11
        }
      ]
    },
    {
      "cell_type": "markdown",
      "source": [
        "# **Q9.**\n",
        "\n",
        " Create a variable named name and assign your full name to it as a string. How would you print the\n",
        "value of this variable?\n"
      ],
      "metadata": {
        "id": "ZeXu6pLX2XjP"
      }
    },
    {
      "cell_type": "code",
      "source": [
        "name = \"Md Abdullah Al Rahib\"\n",
        "print(name) #To print the value of the name variable, we can use the print() function"
      ],
      "metadata": {
        "colab": {
          "base_uri": "https://localhost:8080/"
        },
        "id": "tgbVTwTs2W4f",
        "outputId": "c13182d9-6442-41ba-f1a5-6cb63e25abb6"
      },
      "execution_count": 12,
      "outputs": [
        {
          "output_type": "stream",
          "name": "stdout",
          "text": [
            "Md Abdullah Al Rahib\n"
          ]
        }
      ]
    },
    {
      "cell_type": "markdown",
      "source": [
        "# **Q10.**\n",
        "\n",
        "Given the string \"Hello, World!\", extract the substring \"World\"."
      ],
      "metadata": {
        "id": "ghAh7jeu2Y_8"
      }
    },
    {
      "cell_type": "code",
      "source": [
        "string = \"Hello, World!\"\n",
        "substring = string[7:12]\n",
        "print(substring)"
      ],
      "metadata": {
        "colab": {
          "base_uri": "https://localhost:8080/"
        },
        "id": "ZCqZEhVi2aFc",
        "outputId": "e3e0a7e8-d9c3-4c0d-a4bf-922256a87eb8"
      },
      "execution_count": 13,
      "outputs": [
        {
          "output_type": "stream",
          "name": "stdout",
          "text": [
            "World\n"
          ]
        }
      ]
    },
    {
      "cell_type": "markdown",
      "source": [
        "# **Q11.**\n",
        "\n",
        "Create a variable named \"is_student\" and assign it a boolean value indicating whether you are\n",
        "currently a student or not."
      ],
      "metadata": {
        "id": "hUJIsAgA2ak9"
      }
    },
    {
      "cell_type": "code",
      "source": [
        "is_student = True  # Set it to True if you are currently a student, or False otherwise"
      ],
      "metadata": {
        "id": "cHmV4Hej3qms"
      },
      "execution_count": 14,
      "outputs": []
    }
  ],
  "metadata": {
    "kernelspec": {
      "display_name": "Python 3",
      "language": "python",
      "name": "python3"
    },
    "language_info": {
      "codemirror_mode": {
        "name": "ipython",
        "version": 3
      },
      "file_extension": ".py",
      "mimetype": "text/x-python",
      "name": "python",
      "nbconvert_exporter": "python",
      "pygments_lexer": "ipython3",
      "version": "3.11.3"
    },
    "orig_nbformat": 4,
    "colab": {
      "provenance": []
    }
  },
  "nbformat": 4,
  "nbformat_minor": 0
}